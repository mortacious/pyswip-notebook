{
 "cells": [
  {
   "cell_type": "markdown",
   "metadata": {},
   "source": [
    "## Pyswip-notebook usage examples"
   ]
  },
  {
   "cell_type": "markdown",
   "metadata": {},
   "source": [
    "Spawn the interpreter instance and add some initial facts. SWI-Prolog will be started automatically in the background.\n",
    "\n",
    "The facts can be loaded directly from a string as well.\n",
    "\n"
   ]
  },
  {
   "cell_type": "code",
   "execution_count": 1,
   "metadata": {},
   "outputs": [],
   "source": [
    "from pyswip_notebook import IsolatedProlog\n",
    "\n",
    "prolog = IsolatedProlog()\n",
    "\n",
    "\n",
    "facts = \"\"\"\n",
    "parent(cronus,hestia).\n",
    "parent(cronus,pluto).\n",
    "parent(cronus,poseidon).\n",
    "parent(cronus,zeus).\n",
    "parent(cronus,hera).\n",
    "parent(cronus,demeter).\n",
    "parent(rhea, hestia).\n",
    "parent(rhea, pluto).\n",
    "parent(rhea, poseidon).\n",
    "parent(rhea, zeus).\n",
    "parent(rhea, hera).\n",
    "parent(rhea, demeter).\n",
    "\n",
    "parent(zeus, athena).\n",
    "\n",
    "parent(zeus, ares).\n",
    "parent(zeus, hebe).\n",
    "parent(zeus, hephaestus).\n",
    "parent(hera, ares).\n",
    "parent(hera, hebe).\n",
    "parent(hera, hephaestus).\n",
    "\n",
    "parent(zeus, persephone).\n",
    "parent(demeter, persephone).\n",
    "\n",
    "\n",
    "male(cronus).\n",
    "male(pluto).\n",
    "male(poseidon).\n",
    "male(zeus).\n",
    "male(ares).\n",
    "male(hephaestus).\n",
    "female(rhea).\n",
    "female(hestia).\n",
    "female(hera).\n",
    "female(demeter).\n",
    "female(athena).\n",
    "female(hebe).\n",
    "female(persephone).\n",
    "\"\"\"\n",
    "\n",
    "prolog.consult(facts, file=False) \n"
   ]
  },
  {
   "cell_type": "markdown",
   "metadata": {},
   "source": [
    "Print all facts in the knowledge base."
   ]
  },
  {
   "cell_type": "code",
   "execution_count": 4,
   "metadata": {},
   "outputs": [
    {
     "name": "stdout",
     "output_type": "stream",
     "text": [
      "\n",
      "female(rhea).\n",
      "female(hestia).\n",
      "female(hera).\n",
      "female(demeter).\n",
      "female(athena).\n",
      "female(hebe).\n",
      "female(persephone).\n",
      "\n",
      "parent(cronus, hestia).\n",
      "parent(cronus, pluto).\n",
      "parent(cronus, poseidon).\n",
      "parent(cronus, zeus).\n",
      "parent(cronus, hera).\n",
      "parent(cronus, demeter).\n",
      "parent(rhea, hestia).\n",
      "parent(rhea, pluto).\n",
      "parent(rhea, poseidon).\n",
      "parent(rhea, zeus).\n",
      "parent(rhea, hera).\n",
      "parent(rhea, demeter).\n",
      "parent(zeus, athena).\n",
      "parent(zeus, ares).\n",
      "parent(zeus, hebe).\n",
      "parent(zeus, hephaestus).\n",
      "parent(hera, ares).\n",
      "parent(hera, hebe).\n",
      "parent(hera, hephaestus).\n",
      "parent(zeus, persephone).\n",
      "parent(demeter, persephone).\n",
      "\n",
      "male(cronus).\n",
      "male(pluto).\n",
      "male(poseidon).\n",
      "male(zeus).\n",
      "male(ares).\n",
      "male(hephaestus).\n",
      "{}\n"
     ]
    }
   ],
   "source": [
    "# \n",
    "for l in prolog.query(\"listing\"):\n",
    "    print(l)"
   ]
  },
  {
   "cell_type": "markdown",
   "metadata": {},
   "source": [
    "Next we add a few more complext rules."
   ]
  },
  {
   "cell_type": "code",
   "execution_count": 6,
   "metadata": {},
   "outputs": [],
   "source": [
    "prolog.assertz(\"isFather(X, Y) :- male(X), parent(X, Y)\")\n",
    "\n",
    "prolog.assertz(\"isMother(X, Y) :- female(X), parent(X, Y)\")\n",
    "\n",
    "prolog.assertz(\"isDaughter(X, Y) :- female(X), parent(Y, X)\")\n",
    "\n",
    "prolog.assertz(\"isSon(X, Y) :- male(X), parent(Y, X)\")\n",
    "\n",
    "prolog.assertz(\"isAncestor(X, Y) :- parent(X, Y)\")\n",
    "\n",
    "prolog.assertz(\"isAncestor(X, Y) :- parent(X, T), parent(T, Y)\")"
   ]
  },
  {
   "cell_type": "markdown",
   "metadata": {},
   "source": [
    "We can query the knowledge base."
   ]
  },
  {
   "cell_type": "code",
   "execution_count": 7,
   "metadata": {},
   "outputs": [
    {
     "name": "stdout",
     "output_type": "stream",
     "text": [
      "true\n"
     ]
    }
   ],
   "source": [
    "# \n",
    "res = list(prolog.query(\"isAncestor(rhea, persephone)\"))\n",
    "print(\"false\" if len(res) == 0 else \"true\")"
   ]
  },
  {
   "cell_type": "code",
   "execution_count": 8,
   "metadata": {},
   "outputs": [
    {
     "name": "stdout",
     "output_type": "stream",
     "text": [
      "{'Y': 'athena'}\n",
      "{'Y': 'ares'}\n",
      "{'Y': 'hebe'}\n",
      "{'Y': 'hephaestus'}\n",
      "{'Y': 'persephone'}\n"
     ]
    }
   ],
   "source": [
    "# a more complext query with a variable\n",
    "for res in prolog.query(\"isFather(zeus, Y)\"):\n",
    "    print(res)"
   ]
  },
  {
   "cell_type": "markdown",
   "metadata": {},
   "source": [
    "Multiple instances of `IsolatedProlog` do not interfere with each other."
   ]
  },
  {
   "cell_type": "code",
   "execution_count": 9,
   "metadata": {},
   "outputs": [
    {
     "name": "stdout",
     "output_type": "stream",
     "text": [
      "{}\n",
      "\n",
      ":- dynamic is_empty/1.\n",
      "\n",
      "is_empty(another_prolog).\n"
     ]
    }
   ],
   "source": [
    "# \n",
    "\n",
    "another_prolog = IsolatedProlog()\n",
    "\n",
    "another_prolog.assertz(\"is_empty(another_prolog)\")\n",
    "\n",
    "for l in another_prolog.query(\"listing\"):\n",
    "    print(l)"
   ]
  },
  {
   "cell_type": "markdown",
   "metadata": {},
   "source": [
    "Foreign functions from `pyswip` work as well"
   ]
  },
  {
   "cell_type": "code",
   "execution_count": 12,
   "metadata": {},
   "outputs": [
    {
     "name": "stdout",
     "output_type": "stream",
     "text": [
      "Hello, john\n",
      "Hello, gina\n",
      "[{'X': 'john'}, {'X': 'gina'}]\n"
     ]
    }
   ],
   "source": [
    "from pyswip import registerForeign\n",
    "\n",
    "def hello(t):\n",
    "    print(\"Hello,\", t)\n",
    "hello.arity = 1\n",
    "\n",
    "registerForeign(hello)\n",
    "\n",
    "prolog = IsolatedProlog()\n",
    "prolog.assertz(\"father(michael,john)\")\n",
    "prolog.assertz(\"father(michael,gina)\")\n",
    "print(list(prolog.query(\"father(michael,X), hello(X)\")))"
   ]
  }
 ],
 "metadata": {
  "interpreter": {
   "hash": "ac3e2752b8d3c7ac594336078a1da4fa888e9a385f6933a16a4c4965994955e7"
  },
  "kernelspec": {
   "display_name": "Python 3.8.12 64-bit ('pyswip_notebook_tests': conda)",
   "language": "python",
   "name": "python3"
  },
  "language_info": {
   "codemirror_mode": {
    "name": "ipython",
    "version": 3
   },
   "file_extension": ".py",
   "mimetype": "text/x-python",
   "name": "python",
   "nbconvert_exporter": "python",
   "pygments_lexer": "ipython3",
   "version": "3.8.12"
  },
  "orig_nbformat": 4
 },
 "nbformat": 4,
 "nbformat_minor": 2
}
